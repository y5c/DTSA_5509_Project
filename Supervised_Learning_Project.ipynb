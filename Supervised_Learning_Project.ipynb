{
 "cells": [
  {
   "cell_type": "code",
   "execution_count": null,
   "metadata": {},
   "outputs": [],
   "source": [
    "import numpy as np\n",
    "import pandas as pd\n",
    "import seaborn as sns\n",
    "from matplotlib import pyplot as plt\n",
    "\n",
    "from sklearn.tree import DecisionTreeRegressor, plot_tree\n",
    "from sklearn.ensemble import RandomForestRegressor, AdaBoostRegressor, GradientBoostingRegressor\n",
    "from sklearn.model_selection import GridSearchCV"
   ]
  },
  {
   "cell_type": "code",
   "execution_count": null,
   "metadata": {},
   "outputs": [],
   "source": [
    "data = pd.read_csv('insurance.csv')\n",
    "\n",
    "# Treat the following features as categorical, assigning a numeric code to each category\n",
    "data['sex'] = data['sex'].astype('category').cat.codes\n",
    "data['smoker'] = data['smoker'].astype('category').cat.codes\n",
    "data['region'] = data['region'].astype('category').cat.codes\n",
    "\n",
    "X = data.drop(columns = 'charges')\n",
    "y = data['charges']"
   ]
  },
  {
   "cell_type": "code",
   "execution_count": null,
   "metadata": {},
   "outputs": [],
   "source": [
    "# Wrapper function for saving figures\n",
    "\n",
    "def save_figure(name):\n",
    "    plt.savefig(\n",
    "        name + '.png',\n",
    "        bbox_inches = 'tight',\n",
    "        facecolor = 'white',\n",
    "        transparent = False\n",
    "        )"
   ]
  },
  {
   "cell_type": "code",
   "execution_count": null,
   "metadata": {},
   "outputs": [],
   "source": [
    "# Basic visualization\n",
    "\n",
    "null_check = data.isnull().sum()\n",
    "\n",
    "plt.figure()\n",
    "sns.scatterplot(x = data['bmi'], y = data['charges'])\n",
    "save_figure('scatter_bmi')\n",
    "\n",
    "plt.figure()\n",
    "sns.scatterplot(x = data['age'], y = data['charges'])\n",
    "save_figure('scatter_age')\n",
    "\n",
    "plt.figure(figsize = (10, 8))\n",
    "sns.heatmap(X.corr(), cmap = 'Blues')\n",
    "save_figure('heatmap')\n",
    "\n",
    "#sns.pairplot(data)"
   ]
  },
  {
   "cell_type": "code",
   "execution_count": null,
   "metadata": {},
   "outputs": [],
   "source": [
    "# Decision tree model\n",
    "\n",
    "# Note that cost complexity pruning does not appreciably improve model performance.\n",
    "\n",
    "dt_params = {\n",
    "    'max_depth': np.arange(3, 11, 1),\n",
    "    #'ccp_alpha': np.linspace(0, 0.5)\n",
    "    }\n",
    "\n",
    "dt_search = GridSearchCV(\n",
    "    DecisionTreeRegressor(),\n",
    "    dt_params,\n",
    "    cv = 5,\n",
    "    n_jobs = 8\n",
    "    )\n",
    "    \n",
    "dt_search.fit(X, y)\n",
    "\n",
    "print(\n",
    "    'Best parameters: ', dt_search.best_params_, '\\n',\n",
    "    'Best accuracy: ', dt_search.best_score_, '\\n',\n",
    "    'Feature importances: ', dt_search.best_estimator_.feature_importances_\n",
    "    )"
   ]
  },
  {
   "cell_type": "code",
   "execution_count": null,
   "metadata": {},
   "outputs": [],
   "source": [
    "# Random forest model\n",
    "\n",
    "rf_params = {\n",
    "    'n_estimators': np.arange(50, 525, 25),\n",
    "    'max_depth': np.arange(3, 11, 1),\n",
    "    }\n",
    "\n",
    "rf_search = GridSearchCV(\n",
    "    RandomForestRegressor(),\n",
    "    rf_params,\n",
    "    cv = 5,\n",
    "    n_jobs = 8\n",
    "    )\n",
    "    \n",
    "rf_search.fit(X, y)\n",
    "\n",
    "print(\n",
    "    'Best parameters: ', rf_search.best_params_, '\\n',\n",
    "    'Best accuracy: ', rf_search.best_score_,\n",
    "    )"
   ]
  },
  {
   "cell_type": "code",
   "execution_count": null,
   "metadata": {},
   "outputs": [],
   "source": [
    "# AdaBoost model\n",
    "\n",
    "base_est = [DecisionTreeRegressor(max_depth = n) for n in np.arange(3, 11, 1)]\n",
    "\n",
    "ab_params = {\n",
    "    'base_estimator': base_est,\n",
    "    'n_estimators': np.arange(10, 55, 5),\n",
    "    'learning_rate': np.linspace(0.01, 0.2),\n",
    "    }\n",
    "\n",
    "ab_search = GridSearchCV(\n",
    "    AdaBoostRegressor(),\n",
    "    ab_params,\n",
    "    cv = 5,\n",
    "    n_jobs = 8\n",
    "    )\n",
    "\n",
    "ab_search.fit(X, y)\n",
    "\n",
    "print(\n",
    "    'Best parameters: ', ab_search.best_params_, '\\n',\n",
    "    'Best accuracy: ', ab_search.best_score_\n",
    "    )"
   ]
  },
  {
   "cell_type": "code",
   "execution_count": null,
   "metadata": {},
   "outputs": [],
   "source": [
    "# Gradient boosting model\n",
    "\n",
    "gb_params = {\n",
    "    'n_estimators': np.arange(10, 155, 10),\n",
    "    'learning_rate': np.linspace(0.01, 0.3),\n",
    "    'max_depth': np.arange(3, 11, 1)\n",
    "    }\n",
    "\n",
    "gb_search = GridSearchCV(\n",
    "    GradientBoostingRegressor(),\n",
    "    gb_params,\n",
    "    cv = 5,\n",
    "    n_jobs = 8\n",
    "    )\n",
    "\n",
    "gb_search.fit(X, y)\n",
    "\n",
    "print(\n",
    "    'Best parameters: ', gb_search.best_params_, '\\n',\n",
    "    'Best accuracy: ', gb_search.best_score_\n",
    "    )"
   ]
  },
  {
   "cell_type": "code",
   "execution_count": null,
   "metadata": {},
   "outputs": [],
   "source": [
    "# Generate scatterplots for each model\n",
    "\n",
    "def plot_scatter(ytrue, yhat, name):\n",
    "    plt.figure()\n",
    "    sns.scatterplot(x = ytrue, y = yhat)\n",
    "    plt.xlabel('True')\n",
    "    plt.ylabel('Predicted')\n",
    "    plt.xlim([0, 70000])\n",
    "    plt.ylim([0, 70000])\n",
    "    save_figure(name)\n",
    "\n",
    "dt_yhat = dt_search.best_estimator_.predict(X)\n",
    "plot_scatter(y, dt_yhat, 'dt_scatter')\n",
    "\n",
    "rf_yhat = rf_search.best_estimator_.predict(X)\n",
    "plot_scatter(y, rf_yhat, 'rf_scatter')\n",
    "\n",
    "ab_yhat = ab_search.best_estimator_.predict(X)\n",
    "plot_scatter(y, ab_yhat, 'ab_scatter')\n",
    "\n",
    "gb_yhat = gb_search.best_estimator_.predict(X)\n",
    "plot_scatter(y, gb_yhat, 'gb_scatter')"
   ]
  },
  {
   "cell_type": "code",
   "execution_count": null,
   "metadata": {},
   "outputs": [],
   "source": []
  }
 ],
 "metadata": {
  "kernelspec": {
   "display_name": "Python 3.8.9 64-bit",
   "language": "python",
   "name": "python3"
  },
  "language_info": {
   "codemirror_mode": {
    "name": "ipython",
    "version": 3
   },
   "file_extension": ".py",
   "mimetype": "text/x-python",
   "name": "python",
   "nbconvert_exporter": "python",
   "pygments_lexer": "ipython3",
   "version": "3.8.9"
  },
  "orig_nbformat": 4,
  "vscode": {
   "interpreter": {
    "hash": "31f2aee4e71d21fbe5cf8b01ff0e069b9275f58929596ceb00d14d90e3e16cd6"
   }
  }
 },
 "nbformat": 4,
 "nbformat_minor": 2
}
